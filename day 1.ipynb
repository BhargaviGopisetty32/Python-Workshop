{
 "cells": [
  {
   "cell_type": "markdown",
   "metadata": {},
   "source": [
    "# Markdown Documentation\n",
    "\n",
    "# Headings\n",
    "\n",
    "# Profile\n",
    "\n",
    "<img src = \"pic.jpeg\" Width = \"100 px\" Height = \"100px\">\n",
    "\n",
    "![alt text](pic.jpeg)\n",
    "\n",
    "**Bhargavi**\n",
    "     \n",
    "## Technical Skills\n",
    "\n",
    "+ Python programming\n",
    "\n",
    "- DjangoFramework\n",
    "\n",
    "+ Flask\n",
    "### Personal Information\n",
    "\n",
    "1. Address\n",
    "     - Ongole\n",
    "     \n",
    "5. District\n",
    "     + Prakasam\n",
    "     \n",
    "100. Pincode\n",
    "     - 523001\n",
    "     \n",
    "300. Country\n",
    "     + India\n",
    "     \n",
    "#### Email\n",
    "\n",
    "[myemail](https://www.gmail.com)\n",
    "\n",
    "#### Summary\n",
    "\n",
    "+ My Name is **Bhargavi** \n",
    "- My Home town ***Ongole***\n",
    "+ My [Email](http://www.gmail.com) and\n",
    "- ***My Profile*** <img src = \"pic.jpeg\"\n",
    "width = 50px Height = 100px>\n",
    "\n",
    "# Backtick\n",
    "\n",
    "` Markdown `\n",
    "\n",
    "# BlockQuotes\n",
    " \n",
    " > Welcome\n",
    " \n",
    " > How r u\n",
    " \n",
    " > Happy New Year"
   ]
  },
  {
   "cell_type": "markdown",
   "metadata": {},
   "source": [
    "# What is Python\n",
    "\n",
    "# Features of Python \n",
    "\n",
    "# Hostory of Python\n",
    "\n",
    "# Keywords in Python\n",
    "\n",
    "# Operators in Python\n",
    "\n",
    "# Variable Declaration\n"
   ]
  },
  {
   "cell_type": "markdown",
   "metadata": {},
   "source": [
    "# In Python we have 5 different keys\n",
    "\n",
    "+ Highlevel Programming\n",
    "\n",
    "- ObjectOriented\n",
    "\n",
    "+ Interpreted\n",
    "\n",
    "- Dynamic Programming\n",
    "\n",
    "+ Multipurpose Programming\n",
    "\n",
    "# Features Of Python\n",
    "\n",
    "+ Simple easy to learn\n",
    "\n",
    "- Open source\n",
    "\n",
    "+ Platform Independent\n",
    "\n",
    "- Cross platform\n",
    "\n",
    "+ Portable\n",
    "\n",
    "- Sclable\n",
    "\n",
    "# History Of Python\n",
    "\n",
    "+ In 1980's started  implementation of python\n",
    "\n",
    "- In 1991 released 0.9.0 version\n",
    "\n",
    "+ In 1994 released 1.0 version with features of Anonymous Function like Lambda,Map,Filter,Reduce.\n",
    "\n",
    "+ In 2000 again republished 2.0 version with features of data structures like List,Tuple,Dictionary,Sets\n",
    "\n",
    "- In 2008 again republished 3.0 version with features of garbage collection and quickly"
   ]
  },
  {
   "cell_type": "code",
   "execution_count": 3,
   "metadata": {},
   "outputs": [
    {
     "name": "stdout",
     "output_type": "stream",
     "text": [
      "<class 'int'>\n",
      "<class 'float'>\n",
      "<class 'str'>\n"
     ]
    },
    {
     "data": {
      "text/plain": [
       "bool"
      ]
     },
     "execution_count": 3,
     "metadata": {},
     "output_type": "execute_result"
    }
   ],
   "source": [
    "a = 10\n",
    "b = 10.00\n",
    "c = \"Python\"\n",
    "d = True\n",
    "\n",
    "print(type(a))\n",
    "print(type(b))\n",
    "print(type(c))\n",
    "type(d)"
   ]
  },
  {
   "cell_type": "markdown",
   "metadata": {},
   "source": [
    " # Keywords in python"
   ]
  },
  {
   "cell_type": "code",
   "execution_count": 2,
   "metadata": {},
   "outputs": [
    {
     "data": {
      "text/plain": [
       "['__all__',\n",
       " '__builtins__',\n",
       " '__cached__',\n",
       " '__doc__',\n",
       " '__file__',\n",
       " '__loader__',\n",
       " '__name__',\n",
       " '__package__',\n",
       " '__spec__',\n",
       " 'iskeyword',\n",
       " 'kwlist']"
      ]
     },
     "execution_count": 2,
     "metadata": {},
     "output_type": "execute_result"
    }
   ],
   "source": [
    "import keyword\n",
    "dir(keyword)\n"
   ]
  },
  {
   "cell_type": "code",
   "execution_count": 3,
   "metadata": {},
   "outputs": [
    {
     "data": {
      "text/plain": [
       "['False',\n",
       " 'None',\n",
       " 'True',\n",
       " 'and',\n",
       " 'as',\n",
       " 'assert',\n",
       " 'async',\n",
       " 'await',\n",
       " 'break',\n",
       " 'class',\n",
       " 'continue',\n",
       " 'def',\n",
       " 'del',\n",
       " 'elif',\n",
       " 'else',\n",
       " 'except',\n",
       " 'finally',\n",
       " 'for',\n",
       " 'from',\n",
       " 'global',\n",
       " 'if',\n",
       " 'import',\n",
       " 'in',\n",
       " 'is',\n",
       " 'lambda',\n",
       " 'nonlocal',\n",
       " 'not',\n",
       " 'or',\n",
       " 'pass',\n",
       " 'raise',\n",
       " 'return',\n",
       " 'try',\n",
       " 'while',\n",
       " 'with',\n",
       " 'yield']"
      ]
     },
     "execution_count": 3,
     "metadata": {},
     "output_type": "execute_result"
    }
   ],
   "source": [
    "keyword.kwlist"
   ]
  },
  {
   "cell_type": "markdown",
   "metadata": {},
   "source": [
    "# Operators in Python\n",
    " \n",
    " 1. Arithmatic:\n",
    "      - +,-,*,/,//,%\n",
    "      \n",
    " 2. Conditional:\n",
    "      - if, elif, else\n",
    " \n",
    " 3. Assignment:\n",
    "      + =, %=, /=, //=, -=, +=, *=, ** =, &=, |=, ^=, >>=, <<=\n",
    " \n",
    " 4. Logical:\n",
    "      - AND, NOT, OR\n",
    " \n",
    " 5. Membership:\n",
    "      + in, not in\n",
    " \n",
    " 6. Relational:\n",
    "     +  <,>=,<=,==,!=,>\n",
    " \n",
    " 7. Identity:\n",
    "      - is, is not\n",
    " \n",
    " 8. Bitwise:\n",
    "      + &,|,~,>>,<<,^\n",
    "     "
   ]
  },
  {
   "cell_type": "code",
   "execution_count": 11,
   "metadata": {},
   "outputs": [
    {
     "name": "stdout",
     "output_type": "stream",
     "text": [
      "<class 'str'>\n",
      "<class 'str'>\n"
     ]
    },
    {
     "data": {
      "text/plain": [
       "bool"
      ]
     },
     "execution_count": 11,
     "metadata": {},
     "output_type": "execute_result"
    }
   ],
   "source": [
    "#1. int\n",
    "#2. float\n",
    "#3. string\n",
    "#4. boolean\n",
    "a = True\n",
    "name = 'abc'\n",
    "name1 = \"a\"\n",
    "print(type(name))\n",
    "print(type(name1))\n",
    "\n",
    "type(a)"
   ]
  },
  {
   "cell_type": "code",
   "execution_count": 13,
   "metadata": {},
   "outputs": [
    {
     "data": {
      "text/plain": [
       "(10+15j)"
      ]
     },
     "execution_count": 13,
     "metadata": {},
     "output_type": "execute_result"
    }
   ],
   "source": [
    "c = complex(10,15)\n",
    "c"
   ]
  },
  {
   "cell_type": "code",
   "execution_count": 17,
   "metadata": {},
   "outputs": [
    {
     "data": {
      "text/plain": [
       "complex"
      ]
     },
     "execution_count": 17,
     "metadata": {},
     "output_type": "execute_result"
    }
   ],
   "source": [
    "d = 10+15j\n",
    "type(d)"
   ]
  },
  {
   "cell_type": "code",
   "execution_count": 38,
   "metadata": {},
   "outputs": [
    {
     "data": {
      "text/plain": [
       "10"
      ]
     },
     "execution_count": 38,
     "metadata": {},
     "output_type": "execute_result"
    }
   ],
   "source": [
    "a = 10\n",
    "b = int(a)\n",
    "b"
   ]
  },
  {
   "cell_type": "code",
   "execution_count": 37,
   "metadata": {},
   "outputs": [
    {
     "name": "stdout",
     "output_type": "stream",
     "text": [
      "30\n",
      "Addition of two numbers is : 30\n"
     ]
    }
   ],
   "source": [
    "a = 10;b = 20\n",
    "print(a+b)\n",
    "print(\"Addition of two numbers is :\",a+b)"
   ]
  },
  {
   "cell_type": "code",
   "execution_count": 1,
   "metadata": {},
   "outputs": [
    {
     "name": "stdout",
     "output_type": "stream",
     "text": [
      "10\n",
      "30\n",
      "1030\n"
     ]
    }
   ],
   "source": [
    "a = input()\n",
    "b = input()\n",
    "print(a+b)"
   ]
  },
  {
   "cell_type": "code",
   "execution_count": 2,
   "metadata": {},
   "outputs": [
    {
     "name": "stdout",
     "output_type": "stream",
     "text": [
      "Enter a value10\n",
      "Enter b value50\n",
      "60\n"
     ]
    }
   ],
   "source": [
    "a = int(input('Enter a value'))\n",
    "b = int(input('Enter b value'))\n",
    "print(a+b)"
   ]
  },
  {
   "cell_type": "code",
   "execution_count": 1,
   "metadata": {},
   "outputs": [
    {
     "name": "stdout",
     "output_type": "stream",
     "text": [
      "Enter a value30\n",
      "Enter b value40\n",
      "Addition of 30 + 40 = 70\n",
      "Subtract of  30 - 40 = -10\n",
      "Multiplication of  30 * 40 = 1200\n",
      "Division of  30 / 40 = 0.75\n",
      "Remainder of 30 % 40 = 30\n",
      "Exponential of 30 ** 40 = 121576654590569288010000000000000000000000000000000000000000\n",
      "Floordivision of 30 // 40 = 0\n"
     ]
    }
   ],
   "source": [
    "# Arithmetic operator\n",
    "\n",
    "  # +,-,*,/,%,**,//\n",
    "\n",
    "a = int(input('Enter a value'))\n",
    "b = int(input('Enter b value'))\n",
    "print('Addition of',a,'+',b,'=',a+b)\n",
    "print('Subtract of ',a,'-',b,'=',a-b)\n",
    "print('Multiplication of ',a,'*',b,'=',a*b)\n",
    "print('Division of ',a,'/',b,'=',a/b)\n",
    "print('Remainder of' ,a,'%',b,'=',a%b)\n",
    "print('Exponential of',a,'**',b,'=',a**b)\n",
    "print('Floordivision of',a,'//',b,'=',a//b)\n"
   ]
  },
  {
   "cell_type": "code",
   "execution_count": 14,
   "metadata": {},
   "outputs": [
    {
     "name": "stdout",
     "output_type": "stream",
     "text": [
      "greater than--> True\n",
      "less than--> False\n",
      "greater than or equalsto True\n",
      "less than or equalsto False\n",
      "not equalsto True\n",
      "equalsto True\n"
     ]
    }
   ],
   "source": [
    "# Relational operators\n",
    "\n",
    "  # >,<,>=,<=,!=,==\n",
    "\n",
    "print('greater than-->', 10>5)\n",
    "print('less than-->', 100<50)\n",
    "print('greater than or equalsto', 200>=199)\n",
    "print('less than or equalsto', 199<=100)\n",
    "print('not equalsto', 200!=190)\n",
    "print('equalsto',200==200)"
   ]
  },
  {
   "cell_type": "code",
   "execution_count": null,
   "metadata": {},
   "outputs": [],
   "source": [
    "# Assignment operators\n",
    "\n",
    "  - +=,-=,=,/=,*=,//="
   ]
  },
  {
   "cell_type": "code",
   "execution_count": 20,
   "metadata": {},
   "outputs": [
    {
     "name": "stdout",
     "output_type": "stream",
     "text": [
      "final result is 100\n"
     ]
    }
   ],
   "source": [
    "a=10\n",
    "a+=90\n",
    "a-=50\n",
    "a*=2\n",
    "print('final result is',a)"
   ]
  },
  {
   "cell_type": "code",
   "execution_count": 18,
   "metadata": {},
   "outputs": [
    {
     "data": {
      "text/plain": [
       "100"
      ]
     },
     "execution_count": 18,
     "metadata": {},
     "output_type": "execute_result"
    }
   ],
   "source": [
    "a"
   ]
  },
  {
   "cell_type": "markdown",
   "metadata": {},
   "source": [
    "# Logical Operator\n",
    "\n",
    "   - and,or,not"
   ]
  },
  {
   "cell_type": "code",
   "execution_count": 21,
   "metadata": {},
   "outputs": [
    {
     "name": "stdout",
     "output_type": "stream",
     "text": [
      "False\n",
      "False\n",
      "False\n",
      "True\n"
     ]
    }
   ],
   "source": [
    "# and\n",
    "\n",
    "print(False and False)\n",
    "print(False and True)\n",
    "print(True and False)\n",
    "print(True and True) #(0, 0--- 0, 1-- 1, 0-- 1, 1)"
   ]
  },
  {
   "cell_type": "code",
   "execution_count": 22,
   "metadata": {},
   "outputs": [
    {
     "name": "stdout",
     "output_type": "stream",
     "text": [
      "False\n",
      "True\n",
      "True\n",
      "True\n"
     ]
    }
   ],
   "source": [
    "# or\n",
    "\n",
    "print(False or False)\n",
    "print(False or True)\n",
    "print(True or False)\n",
    "print(True or True)"
   ]
  },
  {
   "cell_type": "code",
   "execution_count": 25,
   "metadata": {},
   "outputs": [
    {
     "name": "stdout",
     "output_type": "stream",
     "text": [
      "True\n",
      "True\n",
      "True\n",
      "False\n",
      "True\n",
      "False\n",
      "False\n",
      "False\n"
     ]
    }
   ],
   "source": [
    "# not with and\n",
    "\n",
    "print(not(False and False))\n",
    "print(not(False and True))\n",
    "print(not(True and False))\n",
    "print(not(True and True))\n",
    "\n",
    "# not with or\n",
    "\n",
    "print(not(False or False))\n",
    "print(not(False or True))\n",
    "print(not(True or False))\n",
    "print(not(True or True))"
   ]
  },
  {
   "cell_type": "markdown",
   "metadata": {},
   "source": [
    "# Membership operators\n",
    "\n",
    "   + in,not in"
   ]
  },
  {
   "cell_type": "code",
   "execution_count": 2,
   "metadata": {},
   "outputs": [
    {
     "name": "stdout",
     "output_type": "stream",
     "text": [
      "True\n"
     ]
    }
   ],
   "source": [
    "s = \"Welcome to python workshop\"\n",
    "\n",
    "#print('to' in s)\n",
    "#print('too' in s)\n",
    "print('x' not in s)"
   ]
  },
  {
   "cell_type": "code",
   "execution_count": 7,
   "metadata": {},
   "outputs": [
    {
     "name": "stdout",
     "output_type": "stream",
     "text": [
      "False\n",
      "True\n"
     ]
    }
   ],
   "source": [
    "# Identity operator\n",
    "\n",
    "x = 'hello'\n",
    "\n",
    "y = 'how'\n",
    "print(x is y)\n",
    "print(x is not y)\n"
   ]
  },
  {
   "cell_type": "markdown",
   "metadata": {},
   "source": [
    "#  bitwise operator\n",
    "\n",
    "   + &,|,^"
   ]
  },
  {
   "cell_type": "code",
   "execution_count": 10,
   "metadata": {},
   "outputs": [
    {
     "data": {
      "text/plain": [
       "'0b10'"
      ]
     },
     "execution_count": 10,
     "metadata": {},
     "output_type": "execute_result"
    }
   ],
   "source": [
    "2&2\n",
    "bin(2)"
   ]
  },
  {
   "cell_type": "code",
   "execution_count": 11,
   "metadata": {},
   "outputs": [
    {
     "data": {
      "text/plain": [
       "2"
      ]
     },
     "execution_count": 11,
     "metadata": {},
     "output_type": "execute_result"
    }
   ],
   "source": [
    "2&2"
   ]
  },
  {
   "cell_type": "code",
   "execution_count": 12,
   "metadata": {},
   "outputs": [
    {
     "data": {
      "text/plain": [
       "0"
      ]
     },
     "execution_count": 12,
     "metadata": {},
     "output_type": "execute_result"
    }
   ],
   "source": [
    "2&5"
   ]
  },
  {
   "cell_type": "code",
   "execution_count": 14,
   "metadata": {},
   "outputs": [
    {
     "data": {
      "text/plain": [
       "'0b101'"
      ]
     },
     "execution_count": 14,
     "metadata": {},
     "output_type": "execute_result"
    }
   ],
   "source": [
    "2&5\n",
    "bin(5)"
   ]
  },
  {
   "cell_type": "code",
   "execution_count": 21,
   "metadata": {},
   "outputs": [
    {
     "data": {
      "text/plain": [
       "'A'"
      ]
     },
     "execution_count": 21,
     "metadata": {},
     "output_type": "execute_result"
    }
   ],
   "source": [
    "2&5\n",
    "5|10\n",
    "bin(5)\n",
    "\n",
    "int('0101',2)\n",
    "\n",
    "# Acii Values convert\n",
    "ord('A')\n",
    "chr(65)\n"
   ]
  },
  {
   "cell_type": "markdown",
   "metadata": {},
   "source": [
    "#  Take 5 inputs from the user\n",
    "# Operations the values\n",
    "# Print result"
   ]
  },
  {
   "cell_type": "code",
   "execution_count": 30,
   "metadata": {},
   "outputs": [
    {
     "name": "stdout",
     "output_type": "stream",
     "text": [
      "Enter a value10\n",
      "Enter b value20\n",
      "Enter c value30\n",
      "Enter d value40\n",
      "Enter e value50\n",
      "30\n",
      "800\n"
     ]
    }
   ],
   "source": [
    "a = int(input('Enter a value'))\n",
    "b = int(input('Enter b value'))\n",
    "c = int(input('Enter c value'))\n",
    "d = int(input('Enter d value'))\n",
    "e = int(input('Enter e value'))\n",
    "print(a+b)\n",
    "print(d*b)"
   ]
  },
  {
   "cell_type": "markdown",
   "metadata": {},
   "source": [
    "# conditional Statements\n",
    "\n",
    "+ if,elif,else\n",
    "\n",
    "### condition syntax\n",
    "\n",
    "if condition:\n",
    "    statements\n",
    "elif condition:\n",
    "    statement\n",
    "else\n",
    "    statements"
   ]
  },
  {
   "cell_type": "code",
   "execution_count": 26,
   "metadata": {},
   "outputs": [
    {
     "name": "stdout",
     "output_type": "stream",
     "text": [
      "Enter the value:-1000172247\n",
      "1000172247 is not an even number\n"
     ]
    }
   ],
   "source": [
    "# Even numbers\n",
    "\n",
    "n = int(input('Enter the value:-'))\n",
    "if n%2==0:\n",
    "    print(n,'is an even number')\n",
    "else:\n",
    "    print(n,'is not an even number')"
   ]
  },
  {
   "cell_type": "code",
   "execution_count": 27,
   "metadata": {},
   "outputs": [
    {
     "name": "stdout",
     "output_type": "stream",
     "text": [
      "Enter the value:-8\n",
      "8 is not an odd number\n"
     ]
    }
   ],
   "source": [
    "#odd numbers\n",
    "\n",
    "n = int(input('Enter the value:-'))\n",
    "if n%2==1: #n%2!=0\n",
    "    print(n,'is an odd number')\n",
    "else:\n",
    "    print(n,'is not an odd number')"
   ]
  },
  {
   "cell_type": "markdown",
   "metadata": {},
   "source": [
    "# take the input from the user\n",
    " 1 to 7"
   ]
  },
  {
   "cell_type": "code",
   "execution_count": 32,
   "metadata": {},
   "outputs": [
    {
     "name": "stdout",
     "output_type": "stream",
     "text": [
      "Enter Day value7\n",
      "Saturday\n"
     ]
    }
   ],
   "source": [
    "day = int(input('Enter Day value'))\n",
    "if day==1:\n",
    "    print('Sunday')\n",
    "elif day==2:\n",
    "    print('Monday')\n",
    "elif day==3:\n",
    "    print('Tuesday')\n",
    "elif day==4:\n",
    "    print('Wednesday')\n",
    "elif day==5:\n",
    "    print('Thursday')\n",
    "elif day==6:\n",
    "    print('Friday')\n",
    "elif day==7:\n",
    "    print('Saturday')\n",
    "else:\n",
    "    print('Invalid')"
   ]
  },
  {
   "cell_type": "markdown",
   "metadata": {},
   "source": [
    "# Based on time take input from user"
   ]
  },
  {
   "cell_type": "code",
   "execution_count": 45,
   "metadata": {},
   "outputs": [
    {
     "name": "stdout",
     "output_type": "stream",
     "text": [
      "Enter the time 23\n",
      "Good night\n"
     ]
    }
   ],
   "source": [
    "time = float(input(\"Enter the time \"))\n",
    "if time>=0.0 and time<=12.00:\n",
    "    print('Good morning')\n",
    "elif time>=13.00 and time<=17.00:\n",
    "    print('Good afternoon')\n",
    "elif time>=18.00 and time<=21.00:\n",
    "    print('Good evening')\n",
    "elif time>=22.00 and time<=24.00:\n",
    "    print('Good night')\n",
    "else:\n",
    "    print('Invalid Time')"
   ]
  },
  {
   "cell_type": "code",
   "execution_count": 57,
   "metadata": {},
   "outputs": [
    {
     "name": "stdout",
     "output_type": "stream",
     "text": [
      "Enter a character: -\n",
      "- is a symbol\n"
     ]
    }
   ],
   "source": [
    "ch = input(\"Enter a character: \")\n",
    "if((ch>='a' and ch<= 'z') or (ch>='A' and ch<='Z')):\n",
    "    print(ch, \"is an Alphabet\")\n",
    "elif((ch>='0' and ch<='9')):\n",
    "    print(ch, \"is a number\")\n",
    "else:\n",
    "    print(ch, \"is a symbol\")\n"
   ]
  },
  {
   "cell_type": "code",
   "execution_count": null,
   "metadata": {},
   "outputs": [
    {
     "name": "stdout",
     "output_type": "stream",
     "text": [
      "\n",
      "Welcome to Python 3.8's help utility!\n",
      "\n",
      "If this is your first time using Python, you should definitely check out\n",
      "the tutorial on the Internet at https://docs.python.org/3.8/tutorial/.\n",
      "\n",
      "Enter the name of any module, keyword, or topic to get help on writing\n",
      "Python programs and using Python modules.  To quit this help utility and\n",
      "return to the interpreter, just type \"quit\".\n",
      "\n",
      "To get a list of available modules, keywords, symbols, or topics, type\n",
      "\"modules\", \"keywords\", \"symbols\", or \"topics\".  Each module also comes\n",
      "with a one-line summary of what it does; to list the modules whose name\n",
      "or summary contain a given string such as \"spam\", type \"modules spam\".\n",
      "\n",
      "help> modules\n",
      "\n",
      "Please wait a moment while I gather a list of all available modules...\n",
      "\n"
     ]
    },
    {
     "name": "stderr",
     "output_type": "stream",
     "text": [
      "C:\\Users\\sankara sai\\anaconda3\\lib\\site-packages\\IPython\\kernel\\__init__.py:12: ShimWarning: The `IPython.kernel` package has been deprecated since IPython 4.0.You should import from ipykernel or jupyter_client instead.\n",
      "  warn(\"The `IPython.kernel` package has been deprecated since IPython 4.0.\"\n",
      "C:\\Users\\sankara sai\\anaconda3\\lib\\site-packages\\nltk\\twitter\\__init__.py:21: UserWarning: The twython library has not been installed. Some functionality from the twitter package will not be available.\n",
      "  warnings.warn(\n",
      "C:\\Users\\sankara sai\\anaconda3\\lib\\site-packages\\setuptools\\distutils_patch.py:25: UserWarning: Distutils was imported before Setuptools. This usage is discouraged and may exhibit undesirable behaviors or errors. Please use Setuptools' objects directly or at least import Setuptools first.\n",
      "  warnings.warn(\n",
      "C:\\Users\\sankara sai\\anaconda3\\lib\\site-packages\\skimage\\viewer\\utils\\__init__.py:1: UserWarning: Recommended matplotlib backend is `Agg` for full skimage.viewer functionality.\n",
      "  from .core import *\n"
     ]
    },
    {
     "name": "stdout",
     "output_type": "stream",
     "text": [
      "Update LANGUAGE_CODES (inside config/base.py) if a new translation has been added to Spyder\n"
     ]
    },
    {
     "name": "stderr",
     "output_type": "stream",
     "text": [
      "C:\\Users\\sankara sai\\anaconda3\\lib\\site-packages\\qtawesome\\iconic_font.py:312: UserWarning: You need to have a running QApplication to use QtAwesome!\n",
      "  warnings.warn(\"You need to have a running \"\n",
      "C:\\Users\\sankara sai\\anaconda3\\lib\\pkgutil.py:107: VisibleDeprecationWarning: zmq.eventloop.minitornado is deprecated in pyzmq 14.0 and will be removed.\n",
      "    Install tornado itself to use zmq with the tornado IOLoop.\n",
      "    \n",
      "  yield from walk_packages(path, info.name+'.', onerror)\n"
     ]
    },
    {
     "name": "stdout",
     "output_type": "stream",
     "text": [
      "Cython              brain_scipy_signal  marshal             socketserver\n",
      "IPython             brain_six           math                socks\n",
      "OpenSSL             brain_ssl           matplotlib          sockshandler\n",
      "PIL                 brain_subprocess    mccabe              sortedcollections\n",
      "PyQt5               brain_threading     menuinst            sortedcontainers\n",
      "__future__          brain_typing        mimetypes           soupsieve\n",
      "_abc                brain_uuid          mistune             sphinx\n",
      "_ast                brotli              mkl                 sphinxcontrib\n",
      "_asyncio            bs4                 mkl_fft             spyder\n",
      "_bisect             builtins            mkl_random          spyder_kernels\n",
      "_blake2             bz2                 mmap                sqlalchemy\n",
      "_bootlocale         cProfile            mmapfile            sqlite3\n",
      "_bz2                calendar            mmsystem            sre_compile\n",
      "_cffi_backend       certifi             mock                sre_constants\n",
      "_codecs             cffi                modulefinder        sre_parse\n",
      "_codecs_cn          cgi                 more_itertools      ssl\n",
      "_codecs_hk          cgitb               mpmath              sspi\n",
      "_codecs_iso2022     chardet             msgpack             sspicon\n",
      "_codecs_jp          chunk               msilib              stat\n",
      "_codecs_kr          click               msvcrt              statistics\n",
      "_codecs_tw          cloudpickle         multipledispatch    statsmodels\n",
      "_collections        clyent              multiprocessing     storemagic\n",
      "_collections_abc    cmath               nacl                string\n",
      "_compat_pickle      cmd                 navigator_updater   stringprep\n",
      "_compression        code                nbconvert           struct\n",
      "_contextvars        codecs              nbformat            subprocess\n",
      "_csv                codeop              netbios             sunau\n",
      "_ctypes             collections         netrc               symbol\n",
      "_ctypes_test        colorama            networkx            sympy\n",
      "_datetime           colorsys            nltk                sympyprinting\n",
      "_decimal            commctrl            nntplib             symtable\n",
      "_dummy_thread       compileall          nose                sys\n",
      "_elementtree        comtypes            notebook            sysconfig\n",
      "_functools          concurrent          nt                  tables\n",
      "_hashlib            conda               ntpath              tabnanny\n",
      "_heapq              conda_build         ntsecuritycon       tarfile\n",
      "_imp                conda_env           nturl2path          tblib\n",
      "_io                 conda_package_handling numba               telnetlib\n",
      "_json               conda_verify        numbers             tempfile\n",
      "_locale             configparser        numexpr             terminado\n",
      "_lsprof             contextlib          numpy               test\n",
      "_lzma               contextlib2         numpydoc            test_data\n",
      "_markupbase         contextvars         odbc                test_pycosat\n",
      "_md5                copy                olefile             testpath\n",
      "_msi                copyreg             opcode              tests\n",
      "_multibytecodec     crypt               openpyxl            textwrap\n",
      "_multiprocessing    cryptography        operator            this\n",
      "_nsis               csv                 optparse            threading\n",
      "_opcode             ctypes              os                  threadpoolctl\n",
      "_operator           curl                packaging           time\n",
      "_osx_support        curses              pandas              timeit\n",
      "_overlapped         cwp                 pandocfilters       timer\n",
      "_pickle             cycler              paramiko            tkinter\n",
      "_py_abc             cython              parser              tlz\n",
      "_pydecimal          cythonmagic         parso               token\n",
      "_pyio               cytoolz             partd               tokenize\n",
      "_pyrsistent_version dask                past                toml\n",
      "_pytest             dataclasses         path                toolz\n",
      "_queue              datetime            pathlib             tornado\n",
      "_random             dateutil            pathlib2            tqdm\n",
      "_sha1               dbi                 pathtools           trace\n",
      "_sha256             dbm                 patsy               traceback\n",
      "_sha3               dde                 pdb                 tracemalloc\n",
      "_sha512             decimal             pep8                traitlets\n",
      "_signal             decorator           perfmon             tty\n",
      "_sitebuiltins       defusedxml          pexpect             turtle\n",
      "_socket             diff_match_patch    pickle              turtledemo\n",
      "_sqlite3            difflib             pickleshare         types\n",
      "_sre                dis                 pickletools         typing\n",
      "_ssl                distributed         pip                 typing_extensions\n",
      "_stat               distutils           pipes               ujson\n",
      "_statistics         doctest             pkg_resources       unicodecsv\n",
      "_string             docutils            pkginfo             unicodedata\n",
      "_strptime           dummy_threading     pkgutil             unittest\n",
      "_struct             easy_install        platform            urllib\n",
      "_symtable           email               plistlib            urllib3\n",
      "_system_path        encodings           pluggy              uu\n",
      "_testbuffer         ensurepip           ply                 uuid\n",
      "_testcapi           entrypoints         poplib              venv\n",
      "_testconsole        enum                posixpath           warnings\n",
      "_testimportmultiple errno               pprint              watchdog\n",
      "_testinternalcapi   et_xmlfile          profile             wave\n",
      "_testmultiphase     fastcache           prometheus_client   wcwidth\n",
      "_thread             faulthandler        prompt_toolkit      weakref\n",
      "_threading_local    filecmp             pstats              webbrowser\n",
      "_tkinter            fileinput           psutil              webencodings\n",
      "_tracemalloc        filelock            pty                 werkzeug\n",
      "_warnings           flake8              pvectorc            wheel\n",
      "_weakref            flask               py                  widgetsnbextension\n",
      "_weakrefset         fnmatch             py_compile          win2kras\n",
      "_win32sysloader     formatter           pyclbr              win32api\n",
      "_winapi             fractions           pycodestyle         win32clipboard\n",
      "_winxptheme         fsspec              pycosat             win32com\n",
      "_xxsubinterpreters  ftplib              pycparser           win32con\n",
      "_yaml               functools           pycurl              win32console\n",
      "abc                 future              pydoc               win32cred\n",
      "adodbapi            gc                  pydoc_data          win32crypt\n",
      "afxres              genericpath         pydocstyle          win32cryptcon\n",
      "aifc                getopt              pyexpat             win32ctypes\n",
      "alabaster           getpass             pyflakes            win32event\n",
      "anaconda_navigator  gettext             pygments            win32evtlog\n",
      "anaconda_project    gevent              pylab               win32evtlogutil\n",
      "antigravity         glob                pylint              win32file\n",
      "argh                glob2               pyls                win32gui\n",
      "argparse            gmpy2               pyls_jsonrpc        win32gui_struct\n",
      "array               greenlet            pyodbc              win32help\n",
      "asn1crypto          gzip                pyparsing           win32inet\n",
      "ast                 h5py                pyreadline          win32inetcon\n",
      "astroid             hashlib             pyrsistent          win32job\n",
      "astropy             heapdict            pytest              win32lz\n",
      "asynchat            heapq               pythoncom           win32net\n",
      "asyncio             hmac                pytz                win32netcon\n",
      "asyncore            html                pywin               win32pdh\n",
      "atexit              html5lib            pywin32_bootstrap   win32pdhquery\n",
      "atomicwrites        http                pywin32_testutil    win32pdhutil\n",
      "attr                idlelib             pywintypes          win32pipe\n",
      "audioop             idna                pywt                win32print\n",
      "autopep8            imageio             pyximport           win32process\n",
      "autoreload          imagesize           qdarkstyle          win32profile\n",
      "babel               imaplib             qtawesome           win32ras\n",
      "backcall            imghdr              qtconsole           win32rcparser\n",
      "backports           imp                 qtpy                win32security\n",
      "base64              importlib           queue               win32service\n",
      "bcrypt              importlib_metadata  quopri              win32serviceutil\n",
      "bdb                 inspect             random              win32timezone\n",
      "binascii            intervaltree        rasutil             win32trace\n",
      "binhex              io                  re                  win32traceutil\n",
      "binstar_client      ipaddress           readline            win32transaction\n",
      "bisect              ipykernel           regcheck            win32ts\n",
      "bitarray            ipykernel_launcher  regex               win32ui\n",
      "bkcharts            ipython_genutils    regutil             win32uiole\n",
      "bleach              ipywidgets          reprlib             win32verstamp\n",
      "bokeh               isapi               requests            win32wnet\n",
      "boto                isort               rlcompleter         win_inet_pton\n",
      "bottleneck          isympy              rmagic              win_unicode_console\n",
      "brain_argparse      itertools           rope                wincertstore\n",
      "brain_attrs         itsdangerous        rtree               winerror\n",
      "brain_boto3         jdcal               ruamel_yaml         winioctlcon\n",
      "brain_builtin_inference jedi                run                 winnt\n",
      "brain_collections   jinja2              runpy               winperf\n",
      "brain_crypt         joblib              sched               winpty\n",
      "brain_curses        json                scipy               winreg\n",
      "brain_dataclasses   json5               scripts             winsound\n",
      "brain_dateutil      jsonschema          seaborn             winxpgui\n",
      "brain_fstrings      jupyter             secrets             winxptheme\n",
      "brain_functools     jupyter_client      select              wrapt\n",
      "brain_gi            jupyter_console     selectors           wsgiref\n",
      "brain_hashlib       jupyter_core        send2trash          xdrlib\n",
      "brain_http          jupyterlab          servicemanager      xlrd\n",
      "brain_io            jupyterlab_server   setuptools          xlsxwriter\n",
      "brain_mechanize     keyring             shelve              xlwings\n",
      "brain_multiprocessing keyword             shlex               xlwt\n",
      "brain_namedtuple_enum kiwisolver          shutil              xml\n",
      "brain_nose          lazy_object_proxy   signal              xmlrpc\n",
      "brain_numpy_core_fromnumeric lib2to3             simplegeneric       xmltodict\n",
      "brain_numpy_core_function_base libarchive          singledispatch      xxsubtype\n",
      "brain_numpy_core_multiarray libfuturize         singledispatch_helpers yaml\n",
      "brain_numpy_core_numeric libpasteurize       sip                 yapf\n",
      "brain_numpy_core_numerictypes lief                sipconfig           yapftests\n",
      "brain_numpy_core_umath linecache           sipdistutils        zict\n",
      "brain_numpy_ndarray llvmlite            site                zipapp\n",
      "brain_numpy_random_mtrand locale              six                 zipfile\n",
      "brain_numpy_utils   locket              skimage             zipimport\n",
      "brain_pkg_resources logging             sklearn             zipp\n",
      "brain_pytest        lxml                smtpd               zlib\n",
      "brain_qt            lzma                smtplib             zmq\n",
      "brain_random        mailbox             sndhdr              zope\n",
      "brain_re            mailcap             snowballstemmer     \n",
      "brain_responses     markupsafe          socket              \n",
      "\n",
      "Enter any module name to get more help.  Or, type \"modules spam\" to search\n",
      "for modules whose name or summary contain the string \"spam\".\n",
      "\n"
     ]
    }
   ],
   "source": [
    "help()"
   ]
  },
  {
   "cell_type": "code",
   "execution_count": 1,
   "metadata": {},
   "outputs": [
    {
     "data": {
      "text/plain": [
       "['__call__',\n",
       " '__class__',\n",
       " '__delattr__',\n",
       " '__dir__',\n",
       " '__doc__',\n",
       " '__eq__',\n",
       " '__format__',\n",
       " '__func__',\n",
       " '__ge__',\n",
       " '__get__',\n",
       " '__getattribute__',\n",
       " '__gt__',\n",
       " '__hash__',\n",
       " '__init__',\n",
       " '__init_subclass__',\n",
       " '__le__',\n",
       " '__lt__',\n",
       " '__ne__',\n",
       " '__new__',\n",
       " '__reduce__',\n",
       " '__reduce_ex__',\n",
       " '__repr__',\n",
       " '__self__',\n",
       " '__setattr__',\n",
       " '__sizeof__',\n",
       " '__str__',\n",
       " '__subclasshook__']"
      ]
     },
     "execution_count": 1,
     "metadata": {},
     "output_type": "execute_result"
    }
   ],
   "source": [
    "from getpass import getpass\n",
    "dir(getpass)"
   ]
  },
  {
   "cell_type": "code",
   "execution_count": 7,
   "metadata": {
    "scrolled": true
   },
   "outputs": [
    {
     "name": "stdout",
     "output_type": "stream",
     "text": [
      "Enter username:-bhagi\n",
      "Enter password:-········\n",
      "Welcome bhagi\n"
     ]
    }
   ],
   "source": [
    "from getpass import getpass\n",
    "\n",
    "username = input('Enter username:-')\n",
    "password = getpass('Enter password:-')\n",
    "\n",
    "if username=='bhagi' and password=='2345':\n",
    "    print('Welcome',username)\n",
    "else:\n",
    "    print('Invalid username or password ')"
   ]
  },
  {
   "cell_type": "markdown",
   "metadata": {},
   "source": [
    "# Flow Control Statements\n",
    "\n",
    "+ forloop\n",
    "\n",
    "### Syntax of for\n",
    "\n",
    "for variable in range(inclusive,exclusive,step);\n",
    "    print(variable)\n",
    "\n",
    "- whileloop\n",
    "\n",
    "# Jumping statements\n",
    "\n",
    "+ break\n",
    "- continue\n",
    "- pass"
   ]
  },
  {
   "cell_type": "code",
   "execution_count": 27,
   "metadata": {},
   "outputs": [
    {
     "name": "stdout",
     "output_type": "stream",
     "text": [
      "0-->1-->2-->3-->4-->5-->6-->7-->8-->9-->10-->11-->12-->13-->14-->15-->16-->17-->18-->19-->20-->21-->22-->23-->24-->25-->26-->27-->28-->29-->30-->31-->32-->33-->34-->35-->36-->37-->38-->39-->40-->41-->42-->43-->44-->45-->46-->47-->48-->49-->50-->51-->52-->53-->54-->55-->56-->57-->58-->59-->60-->61-->62-->63-->64-->65-->66-->67-->68-->69-->70-->71-->72-->73-->74-->75-->76-->77-->78-->79-->80-->81-->82-->83-->84-->85-->86-->87-->88-->89-->90-->91-->92-->93-->94-->95-->96-->97-->98-->99-->100-->1 ,2 ,3 ,4 ,5 ,6 ,7 ,8 ,9 ,10 ,11 ,12 ,13 ,14 ,15 ,16 ,17 ,18 ,19 ,20 ,21 ,22 ,23 ,24 ,25 ,26 ,27 ,28 ,29 ,30 ,31 ,32 ,33 ,34 ,35 ,36 ,37 ,38 ,39 ,40 ,41 ,42 ,43 ,44 ,45 ,46 ,47 ,48 ,49 ,50 ,50<---49<---48<---47<---46<---45<---44<---43<---42<---41<---40<---39<---38<---37<---36<---35<---34<---33<---32<---31<---30<---29<---28<---27<---26<---25<---24<---23<---22<---21<---20<---19<---18<---17<---16<---15<---14<---13<---12<---11<---10<---9<---8<---7<---6<---5<---4<---3<---2<---1<---0,2,4,6,8,10,12,14,16,18,20,22,24,26,28,30,32,34,36,38,40,42,44,46,48,50,52,54,56,58,60,62,64,66,68,70,72,74,76,78,80,82,84,86,88,90,92,94,96,98,100,"
     ]
    }
   ],
   "source": [
    "# for loop\n",
    "\n",
    "for i in range(100+1):\n",
    "    print(i,end=\"-->\")\n",
    "# with inclusive\n",
    "\n",
    "for j in range(1,50+1):\n",
    "    print(j,end=\" ,\")\n",
    " # Reverse numbers\n",
    "\n",
    "for k in range(50,0,-1):\n",
    "    print(k,end=\"<---\")\n",
    "# even numbers using for loop\n",
    "for l in range(0,101,2):\n",
    "    print(l,end=\",\")"
   ]
  },
  {
   "cell_type": "code",
   "execution_count": 1,
   "metadata": {},
   "outputs": [
    {
     "name": "stdout",
     "output_type": "stream",
     "text": [
      "10\n",
      "012345678910"
     ]
    }
   ],
   "source": [
    "n = int(input())\n",
    "for i in range(n+1):\n",
    "    print(i,end = '')"
   ]
  },
  {
   "cell_type": "code",
   "execution_count": 4,
   "metadata": {},
   "outputs": [
    {
     "name": "stdout",
     "output_type": "stream",
     "text": [
      "10\n",
      "55\n"
     ]
    }
   ],
   "source": [
    "n = int(input())\n",
    "s = 0\n",
    "for i in range(n+1):\n",
    "    s+=i#s=s+i\n",
    "    #print(i,end = '')\n",
    "print(s)"
   ]
  },
  {
   "cell_type": "code",
   "execution_count": null,
   "metadata": {},
   "outputs": [],
   "source": [
    "#sum of natural numbers in b/w the given range"
   ]
  },
  {
   "cell_type": "code",
   "execution_count": 20,
   "metadata": {},
   "outputs": [
    {
     "name": "stdout",
     "output_type": "stream",
     "text": [
      "10\n",
      "10\n",
      "11\n",
      "12\n",
      "13\n",
      "14\n",
      "15\n",
      "16\n",
      "17\n",
      "18\n",
      "19\n"
     ]
    }
   ],
   "source": [
    "n = int(input())\n",
    "for i in range(10,20):\n",
    "    print(i)"
   ]
  },
  {
   "cell_type": "code",
   "execution_count": 12,
   "metadata": {},
   "outputs": [
    {
     "name": "stdout",
     "output_type": "stream",
     "text": [
      "10\n",
      "0\n",
      "1\n",
      "2\n",
      "3\n",
      "4\n",
      "5\n",
      "6\n",
      "7\n",
      "8\n",
      "9\n"
     ]
    }
   ],
   "source": [
    "n = int(input())\n",
    "for i in range(10):\n",
    "    print(i)"
   ]
  },
  {
   "cell_type": "code",
   "execution_count": 22,
   "metadata": {},
   "outputs": [
    {
     "name": "stdout",
     "output_type": "stream",
     "text": [
      "10\n",
      "8\n",
      "6\n",
      "4\n"
     ]
    }
   ],
   "source": [
    "#n = int(input())\n",
    "for i in range(10,2,-2):\n",
    "    print(i)"
   ]
  },
  {
   "cell_type": "code",
   "execution_count": null,
   "metadata": {},
   "outputs": [],
   "source": [
    "#factorial of a given number"
   ]
  },
  {
   "cell_type": "code",
   "execution_count": 26,
   "metadata": {},
   "outputs": [
    {
     "name": "stdout",
     "output_type": "stream",
     "text": [
      "enter factorial number4\n",
      "24\n"
     ]
    }
   ],
   "source": [
    "n = int(input('enter factorial number'))\n",
    "s = 1\n",
    "for i in range(1,n+1):\n",
    "    s*=i#s = s+i\n",
    "    #print(i,end = ' ')\n",
    "print(s)"
   ]
  },
  {
   "cell_type": "code",
   "execution_count": 57,
   "metadata": {},
   "outputs": [
    {
     "name": "stdout",
     "output_type": "stream",
     "text": [
      "enter table number:20\n",
      "enter table upto:10\n",
      "20 * 1 = 20\n",
      "20 * 2 = 40\n",
      "20 * 3 = 60\n",
      "20 * 4 = 80\n",
      "20 * 5 = 100\n",
      "20 * 6 = 120\n",
      "20 * 7 = 140\n",
      "20 * 8 = 160\n",
      "20 * 9 = 180\n",
      "20 * 10 = 200\n"
     ]
    }
   ],
   "source": [
    "#table\n",
    "n = int(input('enter table number:'))\n",
    "m = int(input('enter table upto:'))\n",
    "for i in range(1,m+1):\n",
    "    print('{} * {} = {}'.format(n,i,n*i))"
   ]
  },
  {
   "cell_type": "code",
   "execution_count": 47,
   "metadata": {},
   "outputs": [
    {
     "name": "stdout",
     "output_type": "stream",
     "text": [
      " Bhagi  Bhagi  Bhagi  Bhagi  Bhagi  Bhagi  Bhagi  Bhagi  Bhagi  Bhagi \n"
     ]
    }
   ],
   "source": [
    "print(' Bhagi '*10)"
   ]
  },
  {
   "cell_type": "code",
   "execution_count": 63,
   "metadata": {},
   "outputs": [
    {
     "name": "stdout",
     "output_type": "stream",
     "text": [
      "happy new year-->happy new year-->happy new year-->happy new year-->happy new year-->"
     ]
    }
   ],
   "source": [
    "for i in range(5):\n",
    "    print('happy new year', end = '-->')"
   ]
  },
  {
   "cell_type": "code",
   "execution_count": null,
   "metadata": {},
   "outputs": [],
   "source": [
    "#2 * 1 = 2"
   ]
  },
  {
   "cell_type": "markdown",
   "metadata": {},
   "source": [
    "### While:\n",
    "  \n",
    " while condition:\n",
    " \n",
    "        Statements\n",
    "         \n",
    "          change the value"
   ]
  },
  {
   "cell_type": "code",
   "execution_count": 1,
   "metadata": {},
   "outputs": [
    {
     "name": "stdout",
     "output_type": "stream",
     "text": [
      "1\n",
      "2\n",
      "3\n",
      "4\n",
      "5\n",
      "6\n",
      "7\n",
      "8\n",
      "9\n"
     ]
    }
   ],
   "source": [
    "i = 1\n",
    "while i<10:\n",
    "    print(i)\n",
    "    i+=1 #i=i+1"
   ]
  },
  {
   "cell_type": "code",
   "execution_count": 2,
   "metadata": {},
   "outputs": [
    {
     "name": "stdout",
     "output_type": "stream",
     "text": [
      "10\n",
      "9\n",
      "8\n",
      "7\n",
      "6\n",
      "5\n",
      "4\n",
      "3\n",
      "2\n",
      "1\n"
     ]
    }
   ],
   "source": [
    "i = 10\n",
    "while i>0: #i>=1\n",
    "    print(i)\n",
    "    i-=1"
   ]
  },
  {
   "cell_type": "code",
   "execution_count": 6,
   "metadata": {},
   "outputs": [
    {
     "name": "stdout",
     "output_type": "stream",
     "text": [
      "2\n",
      "4\n",
      "6\n",
      "8\n"
     ]
    }
   ],
   "source": [
    "n=1\n",
    "while n<10:\n",
    "    if n%2==0:\n",
    "       print(n)\n",
    "    n+=1\n",
    "\n",
    "\n",
    "\n",
    "\n"
   ]
  },
  {
   "cell_type": "code",
   "execution_count": 8,
   "metadata": {},
   "outputs": [
    {
     "name": "stdout",
     "output_type": "stream",
     "text": [
      "1\n",
      "3\n",
      "5\n",
      "7\n",
      "9\n"
     ]
    }
   ],
   "source": [
    "n=1\n",
    "while n<10:\n",
    "    if n%2==1:\n",
    "        print(n)\n",
    "    n+=1"
   ]
  },
  {
   "cell_type": "markdown",
   "metadata": {},
   "source": [
    "# Take a break program using while condition"
   ]
  },
  {
   "cell_type": "code",
   "execution_count": 12,
   "metadata": {},
   "outputs": [
    {
     "data": {
      "text/plain": [
       "['BackgroundBrowser',\n",
       " 'BaseBrowser',\n",
       " 'Chrome',\n",
       " 'Chromium',\n",
       " 'Elinks',\n",
       " 'Error',\n",
       " 'Galeon',\n",
       " 'GenericBrowser',\n",
       " 'Grail',\n",
       " 'Konqueror',\n",
       " 'Mozilla',\n",
       " 'Netscape',\n",
       " 'Opera',\n",
       " 'UnixBrowser',\n",
       " 'WindowsDefault',\n",
       " '__all__',\n",
       " '__builtins__',\n",
       " '__cached__',\n",
       " '__doc__',\n",
       " '__file__',\n",
       " '__loader__',\n",
       " '__name__',\n",
       " '__package__',\n",
       " '__spec__',\n",
       " '_browsers',\n",
       " '_lock',\n",
       " '_os_preferred_browser',\n",
       " '_synthesize',\n",
       " '_tryorder',\n",
       " 'get',\n",
       " 'main',\n",
       " 'open',\n",
       " 'open_new',\n",
       " 'open_new_tab',\n",
       " 'os',\n",
       " 'register',\n",
       " 'register_X_browsers',\n",
       " 'register_standard_browsers',\n",
       " 'shlex',\n",
       " 'shutil',\n",
       " 'subprocess',\n",
       " 'sys',\n",
       " 'threading']"
      ]
     },
     "execution_count": 12,
     "metadata": {},
     "output_type": "execute_result"
    }
   ],
   "source": [
    "import webbrowser\n",
    "\n",
    "dir(webbrowser)\n"
   ]
  },
  {
   "cell_type": "code",
   "execution_count": 13,
   "metadata": {},
   "outputs": [
    {
     "data": {
      "text/plain": [
       "True"
      ]
     },
     "execution_count": 13,
     "metadata": {},
     "output_type": "execute_result"
    }
   ],
   "source": [
    "import webbrowser\n",
    "\n",
    "#dir(webbrowser)\n",
    "\n",
    "webbrowser.open('www.google.com')"
   ]
  },
  {
   "cell_type": "code",
   "execution_count": 15,
   "metadata": {},
   "outputs": [
    {
     "data": {
      "text/plain": [
       "'Tue Jan  5 11:28:45 2021'"
      ]
     },
     "execution_count": 15,
     "metadata": {},
     "output_type": "execute_result"
    }
   ],
   "source": [
    "'''import webbrowser\n",
    "\n",
    "dir(webbrowser)\n",
    "\n",
    "webbrowser.open('www.google.com')\n",
    "\n",
    "'''\n",
    "\n",
    "import time\n",
    "\n",
    "#dir(time)\n",
    "\n",
    "time.ctime()"
   ]
  },
  {
   "cell_type": "code",
   "execution_count": 26,
   "metadata": {},
   "outputs": [
    {
     "name": "stdout",
     "output_type": "stream",
     "text": [
      "Tue Jan  5 11:43:07 2021\n",
      "Tue Jan  5 11:43:17 2021\n"
     ]
    }
   ],
   "source": [
    "import webbrowser,time\n",
    "totalbreaks=2\n",
    "count=0\n",
    "while count<totalbreaks:\n",
    "    print(time.ctime())\n",
    "    time.sleep(10)\n",
    "    if count==1:\n",
    "        webbrowser.open('www.facebook.com')\n",
    "        \n",
    "    elif count==2:\n",
    "        webbrowser.open('www.youtube.com')\n",
    "        \n",
    "    count+=1\n",
    "        \n",
    "    "
   ]
  },
  {
   "cell_type": "code",
   "execution_count": 28,
   "metadata": {},
   "outputs": [
    {
     "name": "stdout",
     "output_type": "stream",
     "text": [
      "10\n",
      "11\n",
      "12\n",
      "13\n",
      "14\n"
     ]
    }
   ],
   "source": [
    "i = 10\n",
    "while i<20:\n",
    "    print(i)\n",
    "    i+=1\n",
    "    if i == 15:\n",
    "        break\n",
    "    "
   ]
  },
  {
   "cell_type": "code",
   "execution_count": 32,
   "metadata": {},
   "outputs": [
    {
     "name": "stdout",
     "output_type": "stream",
     "text": [
      "hello\n",
      "hello\n",
      "hello\n",
      "hello\n",
      "hello\n"
     ]
    }
   ],
   "source": [
    "s = 'hello'\n",
    "for i in s:\n",
    "    print(s)"
   ]
  },
  {
   "cell_type": "code",
   "execution_count": 33,
   "metadata": {},
   "outputs": [
    {
     "name": "stdout",
     "output_type": "stream",
     "text": [
      "s\n",
      "s\n",
      "s\n",
      "s\n",
      "s\n"
     ]
    }
   ],
   "source": [
    "s = 'hello'\n",
    "for i in s:\n",
    "    print('s')"
   ]
  },
  {
   "cell_type": "code",
   "execution_count": 35,
   "metadata": {},
   "outputs": [
    {
     "name": "stdout",
     "output_type": "stream",
     "text": [
      "h\n",
      "e\n",
      "l\n",
      "l\n",
      "o\n"
     ]
    }
   ],
   "source": [
    "s = 'hello'\n",
    "for i in s:\n",
    "    print(i,end = '\\n')"
   ]
  },
  {
   "cell_type": "code",
   "execution_count": 36,
   "metadata": {},
   "outputs": [
    {
     "name": "stdout",
     "output_type": "stream",
     "text": [
      "hello"
     ]
    }
   ],
   "source": [
    "s = 'hello'\n",
    "for i in s:\n",
    "    print(i,end = '')"
   ]
  },
  {
   "cell_type": "code",
   "execution_count": 5,
   "metadata": {},
   "outputs": [
    {
     "name": "stdout",
     "output_type": "stream",
     "text": [
      "h\n",
      "e\n"
     ]
    }
   ],
   "source": [
    "s = 'hello'\n",
    "for i in s:\n",
    "    if i == 'l':\n",
    "     break\n",
    "    print(i)"
   ]
  },
  {
   "cell_type": "code",
   "execution_count": 1,
   "metadata": {},
   "outputs": [
    {
     "name": "stdout",
     "output_type": "stream",
     "text": [
      "11\n",
      "12\n",
      "13\n",
      "14\n",
      "16\n",
      "17\n",
      "18\n",
      "19\n",
      "20\n"
     ]
    }
   ],
   "source": [
    "i = 10\n",
    "while i<20:\n",
    "    i+=1\n",
    "    \n",
    "    if i == 15:\n",
    "        continue\n",
    "    print(i)\n",
    "    "
   ]
  },
  {
   "cell_type": "code",
   "execution_count": 4,
   "metadata": {},
   "outputs": [
    {
     "name": "stdout",
     "output_type": "stream",
     "text": [
      "e\n",
      "o\n"
     ]
    }
   ],
   "source": [
    "s = 'hello'\n",
    "for i in s:\n",
    "    if i == 'l' or i == 'h':\n",
    "        continue\n",
    "    print(i)"
   ]
  },
  {
   "cell_type": "code",
   "execution_count": null,
   "metadata": {},
   "outputs": [],
   "source": [
    "s = '1.2'"
   ]
  },
  {
   "cell_type": "code",
   "execution_count": null,
   "metadata": {},
   "outputs": [],
   "source": []
  }
 ],
 "metadata": {
  "kernelspec": {
   "display_name": "Python 3",
   "language": "python",
   "name": "python3"
  },
  "language_info": {
   "codemirror_mode": {
    "name": "ipython",
    "version": 3
   },
   "file_extension": ".py",
   "mimetype": "text/x-python",
   "name": "python",
   "nbconvert_exporter": "python",
   "pygments_lexer": "ipython3",
   "version": "3.8.3"
  }
 },
 "nbformat": 4,
 "nbformat_minor": 4
}
